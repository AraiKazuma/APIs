{
 "cells": [
  {
   "cell_type": "markdown",
   "metadata": {},
   "source": [
    "## LSTMを使って、音声認識します！"
   ]
  },
  {
   "cell_type": "code",
   "execution_count": 4,
   "metadata": {},
   "outputs": [],
   "source": [
    "import tensorflow as tf\n",
    "import tflearn\n",
    "import matplotlib.pyplot as plt\n",
    "import librosa\n",
    "import librosa.display\n",
    "import numpy as np\n",
    "from sklearn import mixture\n",
    "from sklearn.externals import joblib\n",
    "\n",
    "def shuffle_samples(X, Y):\n",
    "    order = np.arange(X.shape[0])\n",
    "    np.random.shuffle(order)\n",
    "    X_result = np.zeros(X.shape)\n",
    "    Y_result = np.zeros(Y.shape)\n",
    "    for i in range(X.shape[0]):\n",
    "        X_result[i,:,:] = X[order[i],:,:]\n",
    "        Y_result[i,:] = Y[order[i],:]\n",
    "    return X_result, Y_result"
   ]
  },
  {
   "cell_type": "code",
   "execution_count": 5,
   "metadata": {},
   "outputs": [],
   "source": [
    "NUM_CLASS = 2 #識別クラス＝２\n",
    "SAMPLE_LEN = 100  #1秒ごと\n",
    "\n",
    "#バイナリ形式で、保存した特徴量をロード\n",
    "feature1 = np.load('breath_normal.npy')\n",
    "feature2 = np.load('breath_wrong.npy')\n",
    "NUM_INPUT_DIM = feature1.shape[1]\n",
    "\n",
    "featureALL = np.empty((0,SAMPLE_LEN,NUM_INPUT_DIM))\n",
    "featureTmp = np.empty((1,SAMPLE_LEN,NUM_INPUT_DIM))\n",
    "labelALL = np.empty((0,2))"
   ]
  },
  {
   "cell_type": "markdown",
   "metadata": {},
   "source": [
    "## データの作成（特徴量ALL、ラベルALL）\n",
    "特徴１も特徴２も混ぜ込んで１つのデータにします！"
   ]
  },
  {
   "cell_type": "code",
   "execution_count": 6,
   "metadata": {},
   "outputs": [],
   "source": [
    "i = 0\n",
    "while i+SAMPLE_LEN-1 < feature1.shape[0]:\n",
    "    j = 0\n",
    "    while j < SAMPLE_LEN:\n",
    "        featureTmp[0,j,:] = feature1[i+j,:]\n",
    "        j = j + 1\n",
    "    i = i + j\n",
    "    featureALL = np.append(featureALL, featureTmp, axis=0)\n",
    "    labelALL = np.append(labelALL, np.array([[1,0]]), axis=0) #正解ラベル\n",
    "    \n",
    "i = 0\n",
    "while i+SAMPLE_LEN-1 < feature2.shape[0]:\n",
    "    j = 0\n",
    "    while j < SAMPLE_LEN:\n",
    "        featureTmp[0,j,:] = feature2[i+j,:]\n",
    "        j = j + 1\n",
    "    i = i + j\n",
    "    featureALL = np.append(featureALL, featureTmp, axis=0)\n",
    "    labelALL = np.append(labelALL, np.array([[0,1]]), axis=0)  #正解ラベル２"
   ]
  },
  {
   "cell_type": "markdown",
   "metadata": {},
   "source": [
    "# データをランダムにして、LSTMの実行！"
   ]
  },
  {
   "cell_type": "code",
   "execution_count": 9,
   "metadata": {},
   "outputs": [
    {
     "name": "stdout",
     "output_type": "stream",
     "text": [
      "Training Step: 59  | total loss: \u001b[1m\u001b[32m0.30876\u001b[0m\u001b[0m | time: 0.105s\n",
      "| SGD | epoch: 020 | loss: 0.30876 - acc: 0.9231 -- iter: 20/21\n",
      "Training Step: 60  | total loss: \u001b[1m\u001b[32m0.26792\u001b[0m\u001b[0m | time: 1.165s\n",
      "| SGD | epoch: 020 | loss: 0.26792 - acc: 0.9333 | val_loss: 1.57324 - val_acc: 0.0000 -- iter: 21/21\n",
      "--\n"
     ]
    }
   ],
   "source": [
    "#ランダムに並べ直す。\n",
    "trainX, trainY = shuffle_samples(featureALL,labelALL)\n",
    "\n",
    "#初期化のおまじない。\n",
    "tf.reset_default_graph()\n",
    "\n",
    "#ニューラルネットの構成を指示する。\n",
    "net=tflearn.input_data(shape=[None, SAMPLE_LEN, NUM_INPUT_DIM])\n",
    "net=tflearn.lstm(net, 128)\n",
    "net=tflearn.fully_connected(net, NUM_CLASS, activation='softmax')\n",
    "net=tflearn.regression(net, optimizer='sgd', learning_rate=0.5, loss='categorical_crossentropy')\n",
    "\n",
    "model = tflearn.DNN(net)\n",
    "#学習を実行する。\n",
    "model.fit(trainX, trainY, n_epoch=20, batch_size=10, validation_set=0.1, show_metric=True)"
   ]
  },
  {
   "cell_type": "markdown",
   "metadata": {},
   "source": [
    "## モデルの保存＆下準備"
   ]
  },
  {
   "cell_type": "code",
   "execution_count": null,
   "metadata": {},
   "outputs": [],
   "source": [
    "#学習済モデルを保存する。\n",
    "model.save('lstm_model.breath')\n",
    "\n",
    "#事前確率の計算　学習データを変える。\n",
    "prior = np.zeros(NUM_CLASS)\n",
    "for i in range(0,trainY.shape[0]):\n",
    "    if trainY[i,0] == 1:\n",
    "        prior[0] += 1\n",
    "    if trainY[i,1] == 1:\n",
    "        prior[1] += 1\n",
    "prior[0] = prior[0]/(prior[0]+prior[1])\n",
    "prior[1] = 1 - prior[0]\n",
    "np.save('lstm_prior.breath.npy', prior)"
   ]
  },
  {
   "cell_type": "markdown",
   "metadata": {},
   "source": [
    "## モデルを使って診断しよう！"
   ]
  },
  {
   "cell_type": "code",
   "execution_count": 16,
   "metadata": {},
   "outputs": [],
   "source": [
    "import tensorflow as tf \n",
    "import tflearn \n",
    "import matplotlib.pyplot as plt \n",
    "import librosa \n",
    "import librosa.display \n",
    "import numpy as np \n",
    "from sklearn import mixture \n",
    "from sklearn.externals import joblib\n",
    "\n",
    "NUM_CLASS = 2 \n",
    "SAMPLE_LEN = 100  #1秒ごと\n",
    "#バイナリ形式でセーブした特徴量データをロード \n",
    "feature = np.load('breath_my.npy') \n",
    "#feature = np.load('c:/temp/work/data_feature_crack1.npy') \n",
    "NUM_INPUT_DIM = feature.shape[1]\n",
    "featureALL = np.empty((0,SAMPLE_LEN,NUM_INPUT_DIM)) \n",
    "featureTmp = np.empty((1,SAMPLE_LEN,NUM_INPUT_DIM))"
   ]
  },
  {
   "cell_type": "code",
   "execution_count": 17,
   "metadata": {},
   "outputs": [],
   "source": [
    "i = 0 \n",
    "while i+SAMPLE_LEN-1 < feature.shape[0]: \n",
    "    j = 0 \n",
    "    while j < SAMPLE_LEN: \n",
    "        featureTmp[0,j,:] = feature[i+j,:] \n",
    "        j = j + 1 \n",
    "    i = i + j \n",
    "    featureALL = np.append(featureALL, featureTmp, axis=0)\n",
    "    \n",
    "testX = featureALL"
   ]
  },
  {
   "cell_type": "markdown",
   "metadata": {},
   "source": [
    "## 診断します！"
   ]
  },
  {
   "cell_type": "code",
   "execution_count": null,
   "metadata": {},
   "outputs": [],
   "source": [
    "#初期化のおまじない \n",
    "tf.reset_default_graph()\n",
    "#ニューラルネットワークの構成を指示する \n",
    "net=tflearn.input_data(shape=[None, SAMPLE_LEN, NUM_INPUT_DIM]) \n",
    "net=tflearn.lstm(net, 128) \n",
    "net=tflearn.fully_connected(net, NUM_CLASS, activation='softmax') \n",
    "net=tflearn.regression(net, optimizer='sgd', learning_rate=0.5, loss='categorical_crossentropy')\n",
    "model = tflearn.DNN(net)\n",
    "#学習済みデータの読み出し \n",
    "model.load('lstm_model.breath') \n",
    "#事前確率データの読み出し \n",
    "prior = np.load('lstm_prior.breath.npy')"
   ]
  },
  {
   "cell_type": "code",
   "execution_count": 20,
   "metadata": {},
   "outputs": [
    {
     "name": "stdout",
     "output_type": "stream",
     "text": [
      "[0.54384183 0.18428244]\n",
      "[0.93230028 0.44227786]\n"
     ]
    }
   ],
   "source": [
    "#事後確率を得る \n",
    "pred_prob=np.array(model.predict(testX)) \n",
    "#尤度を得る \n",
    "pred_LL = pred_prob / prior\n",
    "#平均の確率を得る。 \n",
    "epsilon = np.full(pred_prob.shape, 0.0001) \n",
    "pred_prob_log = np.log(np.maximum(pred_prob,epsilon)) \n",
    "print(np.exp(np.mean(pred_prob_log,axis=0)))\n",
    "#平均の尤度を得る。 \n",
    "epsilon = np.full(pred_prob.shape, 0.0001)\n",
    "pred_prob_log_LL = np.log(np.maximum(pred_LL,epsilon)) \n",
    "print(np.exp(np.mean(pred_prob_log_LL,axis=0)))"
   ]
  },
  {
   "cell_type": "markdown",
   "metadata": {},
   "source": [
    "# スタッキングします。"
   ]
  },
  {
   "cell_type": "code",
   "execution_count": null,
   "metadata": {},
   "outputs": [],
   "source": [
    "NUM_CLASS = 2\n",
    "SAMPLE_LEN = 100  \n",
    "NUM_FRAME_STACK = 4\n",
    "\n",
    "feature1 = np.load('****.npy')\n",
    "feature2 = np.load('****.npy')\n",
    "NUM_INPUT_DIM = feature1.shape[1]\n",
    "\n",
    "featureALL = np.empty((0,int(SAMPLE_LEN/NUM_FRAME_STACK),NUM_INPUT_DIM*NUM_FRAME_STACK))\n",
    "featureTmp = np.empty((1,int(SAMPLE_LEN/NUM_FRAME_STACK),NUM_INPUT_DIM*NUM_FRAME_STACK))\n",
    "labelALL = np.empty((0,2))\n",
    "\n",
    "i = 0\n",
    "while i+SAMPLE_LEN-1 < feature1.shape[0]:\n",
    "    j = 0\n",
    "    while j < SAMPLE_LEN:\n",
    "        m = int(j / NUM_FRAME_STACK)\n",
    "        n = j - m*NUM_FRAME_STACK\n",
    "        for k in range(0,NUM_INPUT_DIM):\n",
    "            featureTmp[0,m,n*NUM_INPUT_DIM+k] = feature1[i+j,k]\n",
    "        j = j + 1\n",
    "    i = i + j\n",
    "    featureALL = np.append(featureALL, featureTmp, axis=0)\n",
    "    labelALL = np.append(labelALL, np.array([[1,0]]), axis=0) \n",
    "    \n",
    "i = 0\n",
    "while i+SAMPLE_LEN-1 < feature2.shape[0]:\n",
    "    j = 0\n",
    "    while j < SAMPLE_LEN:\n",
    "        m = int(j / NUM_FRAME_STACK)\n",
    "        n = j - m*NUM_FRAME_STACK\n",
    "        for k in range(0,NUM_INPUT_DIM):\n",
    "            featureTmp[0,m,n*NUM_INPUT_DIM+k] = feature2[i+j,k]\n",
    "        j = j + 1\n",
    "    i = i + j\n",
    "    featureALL = np.append(featureALL, featureTmp, axis=0)\n",
    "    labelALL = np.append(labelALL, np.array([[0,1]]), axis=0) #³ðx2\n",
    "\n",
    "trainX, trainY = shuffle_samples(featureALL,labelALL)\n",
    "\n",
    "tf.reset_default_graph()\n",
    "\n",
    "net=tflearn.input_data(shape=[None, int(SAMPLE_LEN/NUM_FRAME_STACK),NUM_INPUT_DIM*NUM_FRAME_STACK])\n",
    "net=tflearn.lstm(net, 128)\n",
    "net=tflearn.fully_connected(net, NUM_CLASS, activation='softmax')\n",
    "net=tflearn.regression(net, optimizer='sgd', learning_rate=0.5, loss='categorical_crossentropy')\n",
    "\n",
    "model = tflearn.DNN(net)\n",
    "model.fit(trainX, trainY, n_epoch=20, batch_size=10, validation_set=0.1, show_metric=True)\n",
    "\n",
    "model.save('lstm_model_frame-stack.****')\n",
    "\n",
    "prior = np.zeros(NUM_CLASS)\n",
    "for i in range(0,trainY.shape[0]):\n",
    "    if trainY[i,0] == 1:\n",
    "        prior[0] += 1\n",
    "    if trainY[i,1] == 1:\n",
    "        prior[1] += 1\n",
    "prior[0] = prior[0]/(prior[0]+prior[1])\n",
    "prior[1] = 1 - prior[0]\n",
    "np.save('Stack_lstm_prior.****.npy', prior)\n"
   ]
  },
  {
   "cell_type": "code",
   "execution_count": null,
   "metadata": {},
   "outputs": [],
   "source": []
  }
 ],
 "metadata": {
  "kernelspec": {
   "display_name": "Python 3",
   "language": "python",
   "name": "python3"
  },
  "language_info": {
   "codemirror_mode": {
    "name": "ipython",
    "version": 3
   },
   "file_extension": ".py",
   "mimetype": "text/x-python",
   "name": "python",
   "nbconvert_exporter": "python",
   "pygments_lexer": "ipython3",
   "version": "3.7.3"
  }
 },
 "nbformat": 4,
 "nbformat_minor": 2
}
