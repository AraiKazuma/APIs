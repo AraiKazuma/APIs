{
 "cells": [
  {
   "cell_type": "markdown",
   "metadata": {},
   "source": [
    "# 文章の要約（LexRank）\n",
    "参考⇒https://ohke.hateblo.jp/entry/2018/11/17/230000 。分かり易い⇒\n",
    "http://maruo51.com/2019/07/07/python-sumy/"
   ]
  },
  {
   "cell_type": "code",
   "execution_count": null,
   "metadata": {},
   "outputs": [],
   "source": [
    "from janome.analyzer import Analyzer\n",
    "from janome.charfilter import UnicodeNormalizeCharFilter, RegexReplaceCharFilter\n",
    "from janome.tokenizer import Tokenizer as JanomeTokenizer  # sumyのTokenizerと名前が被るため\n",
    "from janome.tokenfilter import POSKeepFilter, ExtractAttributeFilter\n",
    "\n",
    "f = open('年金_約款.txt',encoding='utf-8')\n",
    "text = f.read()  # ファイル終端まで全て読んだデータを返す\n",
    "f.close()\n",
    "\n",
    "# 1行1文となっているため、改行コードで分離\n",
    "sentences = [t for t in text.split('\\n')]\n",
    "analyzer = Analyzer(\n",
    "    [UnicodeNormalizeCharFilter(), RegexReplaceCharFilter(r'[(\\)「」、。]', ' ')],  # ()「」、。は全てスペースに置き換える\n",
    "    JanomeTokenizer(),\n",
    "    [POSKeepFilter(['名詞', '形容詞', '副詞', '動詞']), ExtractAttributeFilter('base_form')]  # 名詞・形容詞・副詞・動詞の原型のみ\n",
    ")\n",
    "\n",
    "corpus = [' '.join(analyzer.analyze(s)) + '。' for s in sentences]\n",
    "for i in range(4):\n",
    "    print(corpus[i])"
   ]
  },
  {
   "cell_type": "code",
   "execution_count": 74,
   "metadata": {
    "scrolled": false
   },
   "outputs": [
    {
     "name": "stdout",
     "output_type": "stream",
     "text": [
      "●この保険は、被保険者が所定の年齢になられたときから年金をお支払いします。なお、年金支払開始日前に死亡され\n"
     ]
    }
   ],
   "source": [
    "from sumy.parsers.plaintext import PlaintextParser\n",
    "from sumy.nlp.tokenizers import Tokenizer\n",
    "from sumy.summarizers.lex_rank import LexRankSummarizer\n",
    "\n",
    "# 連結したcorpusを再度tinysegmenterでトークナイズさせる\n",
    "parser = PlaintextParser.from_string(''.join(corpus), Tokenizer('japanese'))\n",
    "\n",
    "# LexRankで要約を2文抽出\n",
    "summarizer = LexRankSummarizer()\n",
    "summarizer.stop_words = [' ']  # スペースも1単語として認識されるため、ストップワードにすることで除外する\n",
    "\n",
    "summary = summarizer(document=parser.document, sentences_count=1)\n",
    "\n",
    "# 元の文を表示\n",
    "for sentence in summary:\n",
    "    print(sentences[corpus.index(sentence.__str__())])"
   ]
  },
  {
   "cell_type": "code",
   "execution_count": 76,
   "metadata": {},
   "outputs": [
    {
     "name": "stdout",
     "output_type": "stream",
     "text": [
      "(<Sentence: 保険 保険 者 所定 年齢 なる れる とき 年金 支払い する 年金 支払 開始 日 前 死亡 する れる。>,)\n"
     ]
    }
   ],
   "source": [
    "print(summary)"
   ]
  }
 ],
 "metadata": {
  "kernelspec": {
   "display_name": "Python 3",
   "language": "python",
   "name": "python3"
  },
  "language_info": {
   "codemirror_mode": {
    "name": "ipython",
    "version": 3
   },
   "file_extension": ".py",
   "mimetype": "text/x-python",
   "name": "python",
   "nbconvert_exporter": "python",
   "pygments_lexer": "ipython3",
   "version": "3.7.3"
  }
 },
 "nbformat": 4,
 "nbformat_minor": 2
}
