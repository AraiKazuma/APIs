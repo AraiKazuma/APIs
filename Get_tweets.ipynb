{
 "cells": [
  {
   "cell_type": "markdown",
   "metadata": {},
   "source": [
    "# Get Twitter comments(twitterのコメントを取得するﾌﾟﾛｸﾞﾗﾑ)"
   ]
  },
  {
   "cell_type": "code",
   "execution_count": 1,
   "metadata": {},
   "outputs": [],
   "source": [
    "\n",
    "import tweepy\n",
    "import datetime\n",
    "\n",
    "def gettwitterdata(keyword,dfile):\n",
    "\n",
    "    #Consumer key and access token setting for using Twitter API with python\n",
    "    #python で Twitter APIを使用するためのConsumerキー、アクセストークン設定\n",
    "    Consumer_key = \"please get keys!!!!!!!!!!!!!!\"\n",
    "    Consumer_secret = \"please get keys!!!!!!!!!!!!!!!!\"\n",
    "    Access_token = \"please get keys!!!!!!!!!!!!!!!!\"\n",
    "    Access_secret = \"please get keys!!!!!!!!!!!!!\"\n",
    "\n",
    "    #AUTHORIZE(認証)\n",
    "    auth = tweepy.OAuthHandler(Consumer_key, Consumer_secret)\n",
    "    auth.set_access_token(Access_token, Access_secret)\n",
    "\n",
    "    api = tweepy.API(auth, wait_on_rate_limit = True)\n",
    "\n",
    "  \n",
    "  #Search keyword setting(検索キーワード設定 )\n",
    "    q = keyword\n",
    "\n",
    "    #List to store the tweet(つぶやきを格納するリスト)\n",
    "    tweets_data =[]\n",
    "\n",
    "    #Data acquisition using cursor(カーソルを使用してデータ取得 ) 　　　　　　　　　　　↓Enter the number of acquisitions(取得個数を入れる。)\n",
    "    for tweet in tweepy.Cursor(api.search, q=q, count=100,tweet_mode='extended').items(5000):\n",
    "\n",
    "        #Get a tweets(つぶやきテキスト(FULL)を取得)\n",
    "        tweets_data.append(tweet.full_text + '\\n')\n",
    "\n",
    "\n",
    "    #Output file name(出力ファイル名)\n",
    "    fname = r\"'\"+ dfile + \"'\"\n",
    "    fname = fname.replace(\"'\",\"\")\n",
    "\n",
    "    #File output(ファイル出力)      ↓UTF!(文字コードはＵＴＦ！)\n",
    "    with open(fname, \"w\",encoding=\"utf-8\") as f:\n",
    "        f.writelines(tweets_data)"
   ]
  },
  {
   "cell_type": "code",
   "execution_count": 2,
   "metadata": {},
   "outputs": [],
   "source": [
    "import time\n",
    "#                ↓KEY-WORDS    ↓FILE\n",
    "gettwitterdata('\"電卓\" -RT', 'C:\\\\Users\\\\電卓.txt')\n",
    "time.sleep(1000) \n",
    "gettwitterdata('\"ペットボトル\" -RT', 'C:\\\\Users\\\\ペットボトル.txt')"
   ]
  },
  {
   "cell_type": "code",
   "execution_count": 2,
   "metadata": {},
   "outputs": [],
   "source": [
    "###########################################################################################################################################"
   ]
  }
 ],
 "metadata": {
  "kernelspec": {
   "display_name": "Python 3",
   "language": "python",
   "name": "python3"
  },
  "language_info": {
   "codemirror_mode": {
    "name": "ipython",
    "version": 3
   },
   "file_extension": ".py",
   "mimetype": "text/x-python",
   "name": "python",
   "nbconvert_exporter": "python",
   "pygments_lexer": "ipython3",
   "version": "3.7.3"
  },
  "toc": {
   "colors": {
    "hover_highlight": "#DAA520",
    "navigate_num": "#000000",
    "navigate_text": "#333333",
    "running_highlight": "#FF0000",
    "selected_highlight": "#FFD700",
    "sidebar_border": "#EEEEEE",
    "wrapper_background": "#FFFFFF"
   },
   "moveMenuLeft": true,
   "nav_menu": {
    "height": "12px",
    "width": "252px"
   },
   "navigate_menu": true,
   "number_sections": true,
   "sideBar": true,
   "threshold": 4,
   "toc_cell": false,
   "toc_section_display": "block",
   "toc_window_display": false,
   "widenNotebook": false
  }
 },
 "nbformat": 4,
 "nbformat_minor": 2
}
