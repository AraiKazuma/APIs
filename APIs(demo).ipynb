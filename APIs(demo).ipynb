{
 "cells": [
  {
   "cell_type": "markdown",
   "metadata": {},
   "source": [
    "# APIを利用したPythonプログラムをいくつか作ってみました！\n",
    "### （I made some Python programs using API!）  \n",
    "APIまとめ⇒ https://matome.naver.jp/odai/2144230147636045901?&page=8"
   ]
  },
  {
   "cell_type": "code",
   "execution_count": 1,
   "metadata": {},
   "outputs": [],
   "source": [
    "import requests\n",
    "import json\n",
    "import pandas as pd\n",
    "from   sklearn.feature_extraction.text import TfidfVectorizer"
   ]
  },
  {
   "cell_type": "markdown",
   "metadata": {},
   "source": [
    "# ★YouTube\n",
    "How to get the APIkey⇒　https://qiita.com/chieeeeno/items/ba0d2fb0a45db786746f"
   ]
  },
  {
   "cell_type": "markdown",
   "metadata": {},
   "source": [
    "使えそう⇒https://qiita.com/g-k/items/7c98efe21257afac70e9"
   ]
  },
  {
   "cell_type": "code",
   "execution_count": 2,
   "metadata": {},
   "outputs": [],
   "source": [
    "URL = 'https://www.googleapis.com/youtube/v3/'\n",
    "API_KEY = 'Your API Key'"
   ]
  },
  {
   "cell_type": "markdown",
   "metadata": {},
   "source": [
    "## 対象の動画のコメントを取得する  \n",
    " (Get the comments of YouTube)  "
   ]
  },
  {
   "cell_type": "code",
   "execution_count": 3,
   "metadata": {},
   "outputs": [],
   "source": [
    "def print_video_comment(video_id, n=10):\n",
    "    comment = pd.DataFrame()\n",
    "    params = {\n",
    "        'key': API_KEY,\n",
    "        'part': 'snippet',\n",
    "        'videoId': video_id,\n",
    "        'order': 'relevance',\n",
    "        'textFormat': 'plaintext',\n",
    "        'maxResults': n,\n",
    "    }\n",
    "    response = requests.get(URL + 'commentThreads', params=params)\n",
    "    resource = response.json()\n",
    "    for comment_info in resource['items']:\n",
    "        # コメント(comments)\n",
    "        text = comment_info['snippet']['topLevelComment']['snippet']['textDisplay']\n",
    "        # グッド数(num of good!)\n",
    "        like_cnt = comment_info['snippet']['topLevelComment']['snippet']['likeCount']\n",
    "        # 返信数(num of reply)\n",
    "        reply_cnt = comment_info['snippet']['totalReplyCount']\n",
    "        temp = pd.DataFrame([[text,like_cnt,reply_cnt]])\n",
    "        comment = comment.append(temp) \n",
    "    return comment"
   ]
  },
  {
   "attachments": {
    "image.png": {
     "image/png": "[encoded data removed]"
    }
   },
   "cell_type": "markdown",
   "metadata": {},
   "source": [
    "![image.png](attachment:image.png)"
   ]
  },
  {
   "cell_type": "code",
   "execution_count": 4,
   "metadata": {
    "scrolled": true
   },
   "outputs": [],
   "source": [
    "video_id = '5N1r7NAfuqE' #動画ＵＲＬのｖ＝以下。(string after \"v=\" of video URL)\n",
    "#                                       ↓実験の結果、マックスが１００でした。１０１不可。(MAX is 100)\n",
    "test = print_video_comment(video_id, n=100) "
   ]
  },
  {
   "cell_type": "code",
   "execution_count": 20,
   "metadata": {},
   "outputs": [
    {
     "data": {
      "text/html": [
       "<div>\n",
       "<style scoped>\n",
       "    .dataframe tbody tr th:only-of-type {\n",
       "        vertical-align: middle;\n",
       "    }\n",
       "\n",
       "    .dataframe tbody tr th {\n",
       "        vertical-align: top;\n",
       "    }\n",
       "\n",
       "    .dataframe thead th {\n",
       "        text-align: right;\n",
       "    }\n",
       "</style>\n",
       "<table border=\"1\" class=\"dataframe\">\n",
       "  <thead>\n",
       "    <tr style=\"text-align: right;\">\n",
       "      <th></th>\n",
       "      <th>0</th>\n",
       "      <th>1</th>\n",
       "      <th>2</th>\n",
       "    </tr>\n",
       "  </thead>\n",
       "  <tbody>\n",
       "    <tr>\n",
       "      <th>0</th>\n",
       "      <td>・自動車保険の種類とは？　00:21\\r\\n・等級について　03:00\\r\\n・自動車保険を...</td>\n",
       "      <td>4</td>\n",
       "      <td>0</td>\n",
       "    </tr>\n",
       "    <tr>\n",
       "      <th>0</th>\n",
       "      <td>フロントガラスのひび（小石が飛んできた）を車両保険で直したら（保険で直せますよと言われた）、...</td>\n",
       "      <td>11</td>\n",
       "      <td>0</td>\n",
       "    </tr>\n",
       "    <tr>\n",
       "      <th>0</th>\n",
       "      <td>次の車は中古にします🎵</td>\n",
       "      <td>9</td>\n",
       "      <td>0</td>\n",
       "    </tr>\n",
       "    <tr>\n",
       "      <th>0</th>\n",
       "      <td>自動車保険より自動車に浪費すなってところが共感するわ。</td>\n",
       "      <td>2</td>\n",
       "      <td>0</td>\n",
       "    </tr>\n",
       "    <tr>\n",
       "      <th>0</th>\n",
       "      <td>車を買う時に参考にします♪</td>\n",
       "      <td>4</td>\n",
       "      <td>0</td>\n",
       "    </tr>\n",
       "    <tr>\n",
       "      <th>0</th>\n",
       "      <td>代理店の女が事故の過失を絶対に認めるな  謝罪するな  頭を下げるなと  煩い事を言っていた。</td>\n",
       "      <td>5</td>\n",
       "      <td>0</td>\n",
       "    </tr>\n",
       "    <tr>\n",
       "      <th>0</th>\n",
       "      <td>対人対物は無制限\\n会社を見直す\\n車両保険は不要</td>\n",
       "      <td>0</td>\n",
       "      <td>0</td>\n",
       "    </tr>\n",
       "    <tr>\n",
       "      <th>0</th>\n",
       "      <td>車両保険見直します！</td>\n",
       "      <td>0</td>\n",
       "      <td>0</td>\n",
       "    </tr>\n",
       "    <tr>\n",
       "      <th>0</th>\n",
       "      <td>私は募集人ですが、9割は共感できませんでした。\\n色々考えがありますからね、保険って難しいですね。</td>\n",
       "      <td>0</td>\n",
       "      <td>0</td>\n",
       "    </tr>\n",
       "    <tr>\n",
       "      <th>0</th>\n",
       "      <td>私は車を持ってないし運転しないけど、家族は持ってるし、他人事じゃないですね。\\n家と同様、マ...</td>\n",
       "      <td>0</td>\n",
       "      <td>0</td>\n",
       "    </tr>\n",
       "  </tbody>\n",
       "</table>\n",
       "</div>"
      ],
      "text/plain": [
       "                                                   0   1  2\n",
       "0  ・自動車保険の種類とは？　00:21\\r\\n・等級について　03:00\\r\\n・自動車保険を...   4  0\n",
       "0  フロントガラスのひび（小石が飛んできた）を車両保険で直したら（保険で直せますよと言われた）、...  11  0\n",
       "0                                        次の車は中古にします🎵   9  0\n",
       "0                        自動車保険より自動車に浪費すなってところが共感するわ。   2  0\n",
       "0                                      車を買う時に参考にします♪   4  0\n",
       "0    代理店の女が事故の過失を絶対に認めるな  謝罪するな  頭を下げるなと  煩い事を言っていた。   5  0\n",
       "0                          対人対物は無制限\\n会社を見直す\\n車両保険は不要   0  0\n",
       "0                                         車両保険見直します！   0  0\n",
       "0  私は募集人ですが、9割は共感できませんでした。\\n色々考えがありますからね、保険って難しいですね。   0  0\n",
       "0  私は車を持ってないし運転しないけど、家族は持ってるし、他人事じゃないですね。\\n家と同様、マ...   0  0"
      ]
     },
     "execution_count": 20,
     "metadata": {},
     "output_type": "execute_result"
    }
   ],
   "source": [
    "test[:10]"
   ]
  },
  {
   "cell_type": "markdown",
   "metadata": {},
   "source": [
    "## 対象のキーワードを含む動画を再生数順に並べる。  \n",
    "Arrange videos containing the target keyword in order of the number of plays."
   ]
  },
  {
   "cell_type": "code",
   "execution_count": 38,
   "metadata": {},
   "outputs": [],
   "source": [
    "def get_video_info(part, q, order, type, num):\n",
    "    dic_list = []\n",
    "    search_response = youtube.search().list(part=part,q=q,order=order,type=type)\n",
    "    output = youtube.search().list(part=part,q=q,order=order,type=type).execute()\n",
    "\n",
    "    #一度に5件しか取得できないため何度も繰り返して実行\n",
    "    for i in range(num):        \n",
    "        dic_list = dic_list + output['items']\n",
    "        search_response = youtube.search().list_next(search_response, output)\n",
    "        output = search_response.execute()\n",
    "\n",
    "    df = pd.DataFrame(dic_list)\n",
    "    #各動画毎に一意のvideoIdを取得\n",
    "    df1 = pd.DataFrame(list(df['id']))['videoId']\n",
    "    #各動画毎に一意のvideoIdを取得必要な動画情報だけ取得\n",
    "    df2 = pd.DataFrame(list(df['snippet']))[['channelTitle','publishedAt','channelId','title','description']]\n",
    "    ddf = pd.concat([df1,df2], axis = 1)\n",
    "\n",
    "    return ddf"
   ]
  },
  {
   "cell_type": "code",
   "execution_count": 44,
   "metadata": {},
   "outputs": [],
   "source": [
    "#                                                                              ↓２０×５=１００videos\n",
    "df = get_video_info(part='snippet',q='生命保険',order='viewCount',type='video',num = 20)"
   ]
  },
  {
   "cell_type": "code",
   "execution_count": null,
   "metadata": {},
   "outputs": [],
   "source": [
    "#videoIdを入力することで、その動画の具体的な再生回数やいいね数を取得する関数を作成\n",
    "def get_statistics(id):\n",
    "    statistics = youtube.videos().list(part = 'statistics', id = id).execute()['items'][0]['statistics']\n",
    "    return statistics\n",
    "\n",
    "df_static = pd.DataFrame(list(df['videoId'].apply(lambda x : get_statistics(x))))\n",
    "\n",
    "df_output = pd.concat([df,df_static], axis = 1)"
   ]
  },
  {
   "cell_type": "code",
   "execution_count": 46,
   "metadata": {},
   "outputs": [
    {
     "data": {
      "text/html": [
       "<div>\n",
       "<style scoped>\n",
       "    .dataframe tbody tr th:only-of-type {\n",
       "        vertical-align: middle;\n",
       "    }\n",
       "\n",
       "    .dataframe tbody tr th {\n",
       "        vertical-align: top;\n",
       "    }\n",
       "\n",
       "    .dataframe thead th {\n",
       "        text-align: right;\n",
       "    }\n",
       "</style>\n",
       "<table border=\"1\" class=\"dataframe\">\n",
       "  <thead>\n",
       "    <tr style=\"text-align: right;\">\n",
       "      <th></th>\n",
       "      <th>videoId</th>\n",
       "      <th>channelTitle</th>\n",
       "      <th>publishedAt</th>\n",
       "      <th>channelId</th>\n",
       "      <th>title</th>\n",
       "      <th>description</th>\n",
       "      <th>commentCount</th>\n",
       "      <th>dislikeCount</th>\n",
       "      <th>favoriteCount</th>\n",
       "      <th>likeCount</th>\n",
       "      <th>viewCount</th>\n",
       "    </tr>\n",
       "  </thead>\n",
       "  <tbody>\n",
       "    <tr>\n",
       "      <th>0</th>\n",
       "      <td>SfGJm_iA2nA</td>\n",
       "      <td>AXA〈アクサ〉公式チャンネル</td>\n",
       "      <td>2019-11-28T06:45:09.000Z</td>\n",
       "      <td>UCeCGmB_mhtKor48xxLEIQ-Q</td>\n",
       "      <td>WEB限定CM｜ガン治療保険「家族への想い」自分ゴト篇｜アクサ生命保険</td>\n",
       "      <td>アクサの「治療保障」のがん保険 マイ・セラピー もっと見る→https://www.axa....</td>\n",
       "      <td>NaN</td>\n",
       "      <td>7</td>\n",
       "      <td>0</td>\n",
       "      <td>13</td>\n",
       "      <td>6683718</td>\n",
       "    </tr>\n",
       "    <tr>\n",
       "      <th>1</th>\n",
       "      <td>Q2BrK24MrFo</td>\n",
       "      <td>東京海上日動あんしん生命/公式チャンネル</td>\n",
       "      <td>2019-07-01T20:24:26.000Z</td>\n",
       "      <td>UCbWuPexnKTStc7D6sMEfk1g</td>\n",
       "      <td>医療保険「ひとりひとりの生きるのそばに」篇【公式/東京海上日動あんしん生命公式ＣＭ】</td>\n",
       "      <td>「おもいっきり生きる人をもっと支えたい」 そんな想いを込め2019年7月にリニューアルした医...</td>\n",
       "      <td>NaN</td>\n",
       "      <td>NaN</td>\n",
       "      <td>0</td>\n",
       "      <td>NaN</td>\n",
       "      <td>5502995</td>\n",
       "    </tr>\n",
       "    <tr>\n",
       "      <th>2</th>\n",
       "      <td>WEe9Z0YagOA</td>\n",
       "      <td>mrsmamcat</td>\n",
       "      <td>2011-08-02T11:22:39.000Z</td>\n",
       "      <td>UCuD32SP5UZhAH8ig_N5941w</td>\n",
       "      <td>父親と娘の想いが切ないタイ生命保険のCM（日本語訳付き）</td>\n",
       "      <td>タイ生命保険のCMシリーズ。ドラマ仕立てで好評を得ているシリーズの父娘篇。涙を誘うCMと話題...</td>\n",
       "      <td>336</td>\n",
       "      <td>75</td>\n",
       "      <td>0</td>\n",
       "      <td>4323</td>\n",
       "      <td>993915</td>\n",
       "    </tr>\n",
       "  </tbody>\n",
       "</table>\n",
       "</div>"
      ],
      "text/plain": [
       "       videoId          channelTitle               publishedAt  \\\n",
       "0  SfGJm_iA2nA       AXA〈アクサ〉公式チャンネル  2019-11-28T06:45:09.000Z   \n",
       "1  Q2BrK24MrFo  東京海上日動あんしん生命/公式チャンネル  2019-07-01T20:24:26.000Z   \n",
       "2  WEe9Z0YagOA             mrsmamcat  2011-08-02T11:22:39.000Z   \n",
       "\n",
       "                  channelId                                       title  \\\n",
       "0  UCeCGmB_mhtKor48xxLEIQ-Q         WEB限定CM｜ガン治療保険「家族への想い」自分ゴト篇｜アクサ生命保険   \n",
       "1  UCbWuPexnKTStc7D6sMEfk1g  医療保険「ひとりひとりの生きるのそばに」篇【公式/東京海上日動あんしん生命公式ＣＭ】   \n",
       "2  UCuD32SP5UZhAH8ig_N5941w                父親と娘の想いが切ないタイ生命保険のCM（日本語訳付き）   \n",
       "\n",
       "                                         description commentCount  \\\n",
       "0  アクサの「治療保障」のがん保険 マイ・セラピー もっと見る→https://www.axa....          NaN   \n",
       "1  「おもいっきり生きる人をもっと支えたい」 そんな想いを込め2019年7月にリニューアルした医...          NaN   \n",
       "2  タイ生命保険のCMシリーズ。ドラマ仕立てで好評を得ているシリーズの父娘篇。涙を誘うCMと話題...          336   \n",
       "\n",
       "  dislikeCount favoriteCount likeCount viewCount  \n",
       "0            7             0        13   6683718  \n",
       "1          NaN             0       NaN   5502995  \n",
       "2           75             0      4323    993915  "
      ]
     },
     "execution_count": 46,
     "metadata": {},
     "output_type": "execute_result"
    }
   ],
   "source": [
    "df_output[:3]"
   ]
  },
  {
   "cell_type": "markdown",
   "metadata": {},
   "source": [
    "# ★Twitter  \n",
    "how to get the APIkey⇒ https://qiita.com/kngsym2018/items/2524d21455aac111cdee (面倒＆時間がかかる=troublesome)"
   ]
  },
  {
   "cell_type": "markdown",
   "metadata": {},
   "source": [
    "使えそうな記事（Seems to be usable article）⇒https://www.pytry3g.com/entry/python-twitter-api  \n",
    "usable article⇒https://qiita.com/kitarikes/items/543ab75a379f0bf903cc"
   ]
  },
  {
   "cell_type": "code",
   "execution_count": 73,
   "metadata": {},
   "outputs": [],
   "source": [
    "import tweepy\n",
    "import datetime\n",
    "\n",
    "#python で Twitter APIを使用するためのConsumerキー、アクセストークン設定(key and token)\n",
    "Consumer_key = \"Your API Key\"\n",
    "Consumer_secret = \"Your API Key\"\n",
    "Access_token = \"Your API Key\"\n",
    "Access_secret = \"Your API Key\"\n",
    "\n",
    "#認証\n",
    "auth = tweepy.OAuthHandler(Consumer_key, Consumer_secret)\n",
    "auth.set_access_token(Access_token, Access_secret)\n",
    "api = tweepy.API(auth, wait_on_rate_limit = True)"
   ]
  },
  {
   "cell_type": "markdown",
   "metadata": {},
   "source": [
    "## 特定のワードを含むつぶやきを取得＆そのユーザー名も取得  \n",
    "(Get tweets containing a specific word & get their username)"
   ]
  },
  {
   "cell_type": "code",
   "execution_count": 78,
   "metadata": {},
   "outputs": [
    {
     "name": "stdout",
     "output_type": "stream",
     "text": [
      "自分のご両親など高齢の方が居ましたら、マスクや手指消毒、うがいを勧めてください。\n",
      "インフルエンザで、毎年数万人の方が国内で亡くなっていることを踏まえれば、今回の件を機に対策を始めるのも一つです\n",
      "russianblue\n",
      "---------------------------------------------------\n",
      "とりあえず、自分の分のマスクはあるわけなんだが包装ビニール無しで、直接箱に入ってるマスクってどのくらい放置しといて大丈夫なんだろ？\n",
      "たしか2年前に買ったやつなんだが・・・ https://t.co/pi0CShBlo4\n",
      "役牛\n",
      "---------------------------------------------------\n",
      "年末に納品していたマスクの中から、昨日今日と使用していただきました。(金銀ハーフ、赤)\n",
      "使用のタイミングは分かりませんがその他の色もお楽しみに🐉🐉🐉\n",
      "#dragonlee #ryulee \n",
      "#njpw #njnbg \n",
      "#プロレス… https://t.co/KKE8ZhWTU0\n",
      "CADPON☆プロレスマスク製作\n",
      "---------------------------------------------------\n",
      "マスクOKになったの嬉しすぎ🥳\n",
      "みえ\n",
      "---------------------------------------------------\n",
      "医療用マスク品薄で納入厳しく、病院や救急現場に困惑と不安　メーカーへの注文、通常の１００倍も #SmartNews \n",
      "本当に必要な人の為に…\n",
      " https://t.co/KzMCwbMLQj\n",
      "www.\n",
      "---------------------------------------------------\n"
     ]
    }
   ],
   "source": [
    "#                                       ↓keyword!   ↓num of tweets\n",
    "for tweet in tweepy.Cursor(api.search, q=\"マスク\").items(10):\n",
    "    if list(tweet.text)[:2] != ['R', 'T']:\n",
    "       print(tweet.text)\n",
    "       print(tweet.user.name) \n",
    "       print(\"---------------------------------------------------\") "
   ]
  },
  {
   "cell_type": "markdown",
   "metadata": {},
   "source": [
    "## 対象のアカウントのつぶやきを取得する。  \n",
    "(Get tweets from the target account)"
   ]
  },
  {
   "cell_type": "code",
   "execution_count": null,
   "metadata": {},
   "outputs": [],
   "source": [
    "[tweet.text for tweet in tweepy.Cursor(api.user_timeline, id=\"TWITTER ID\").items(10) if (list(tweet.text)[:2]!=['R', 'T']) & (list(tweet.text)[0]!='@')]"
   ]
  },
  {
   "cell_type": "markdown",
   "metadata": {},
   "source": [
    "# ★Yahoo API (沢山ある！！) \n",
    "ドキュメント⇒https://developer.yahoo.co.jp/sitemap/"
   ]
  },
  {
   "cell_type": "code",
   "execution_count": 5,
   "metadata": {},
   "outputs": [],
   "source": [
    "app_id = \"Your API Key\""
   ]
  },
  {
   "cell_type": "markdown",
   "metadata": {},
   "source": [
    "## 天気予報API"
   ]
  },
  {
   "cell_type": "code",
   "execution_count": 32,
   "metadata": {},
   "outputs": [
    {
     "name": "stdout",
     "output_type": "stream",
     "text": [
      "2020年＿02月01日＿1650,0.0,observation\n",
      "2020年＿02月01日＿1700,0.0,forecast\n",
      "2020年＿02月01日＿1710,0.0,forecast\n",
      "2020年＿02月01日＿1720,0.0,forecast\n",
      "2020年＿02月01日＿1730,0.0,forecast\n",
      "2020年＿02月01日＿1740,0.0,forecast\n",
      "2020年＿02月01日＿1750,0.0,forecast\n"
     ]
    }
   ],
   "source": [
    "import urllib\n",
    "import pprint\n",
    "import json\n",
    "\n",
    "APP_ID = app_id\n",
    "\n",
    "BASE_URL = \"http://weather.olp.yahooapis.jp/v1/place\"\n",
    "#　　　　　　　↓豊洲の経度、緯度\n",
    "COORDINATES = \"139.797274,35.654729\"\n",
    "OUTPUT=\"json\"\n",
    "\n",
    "#単純に自分用のURLを作って、yahooに送っているだけ。\n",
    "url = BASE_URL + \"?appid=%s&coordinates=%s&output=%s\" % (APP_ID,COORDINATES,OUTPUT)\n",
    "#                        ↓指定したURLで、リクエストを送っているだけ。\n",
    "json_tree = json.loads( urllib.request.urlopen(url).read())\n",
    "\n",
    "for var in range(0,7):\n",
    "    date = json_tree['Feature'][0]['Property']['WeatherList']['Weather'][var]['Date']\n",
    "    date = date[0:4]+\"年＿\"+date[4:6]+\"月\"+date[6:8]+\"日＿\"+date[8:12]+\"＿\"\n",
    "    rainfall = json_tree['Feature'][0]['Property']['WeatherList']['Weather'][var]['Rainfall']\n",
    "    type = json_tree['Feature'][0]['Property']['WeatherList']['Weather'][var]['Type']\n",
    "    print(\"%s,%s,%s\"%(date,rainfall,type))"
   ]
  },
  {
   "cell_type": "markdown",
   "metadata": {},
   "source": [
    "## ローカルサーチAPI"
   ]
  },
  {
   "cell_type": "code",
   "execution_count": 49,
   "metadata": {},
   "outputs": [
    {
     "name": "stdout",
     "output_type": "stream",
     "text": [
      "ラウンジ ・クオーレ／ホテルトラスティ 東京ベイサイド\n",
      " 35.628716, 139.78720\n",
      "\n",
      "ザ・ロビーラウンジ／シャングリ・ラ ホテル 東京\n",
      " 35.6825835, 139.769375\n",
      "\n",
      "カフェ＆バーラウンジ クオーレ／ホテルトラスティプレミア日本橋浜町\n",
      " 35.6872131, 139.787412\n",
      "\n",
      "ラウンジ オアシス／コートヤード・マリオット 銀座東武ホテル\n",
      " 35.6683684, 139.764931\n",
      "\n",
      "ラウンジ21／第一ホテル東京 最上階（21階）\n",
      " 35.6686981, 139.757532\n",
      "\n",
      "ロビーラウンジ フォンテーヌ／ロイヤルパークホテル\n",
      " 35.6823040, 139.786662\n",
      "\n",
      "ロビーラウンジ クリスタルムーブメント／東武ホテルレバント東京\n",
      " 35.697258, 139.81072\n",
      "\n"
     ]
    }
   ],
   "source": [
    "#豊洲周辺の禁煙のホテルカフェを出力する。\n",
    "import json\n",
    "import socket\n",
    "import urllib.error\n",
    "import urllib.request\n",
    "\n",
    "# ローカルサーチクラス\n",
    "class LocalSearch:\n",
    "\n",
    "    def __init__(self, appid):\n",
    "        self.appid = appid\n",
    "\n",
    "    def search(self, query):\n",
    "        baseurl = 'https://map.yahooapis.jp/search/local/V1/localSearch'\n",
    "        #ここに、好きなパラメータを指定する！！！！！\n",
    "        params = {\n",
    "            'query': query,\n",
    "            'gc': '0115',#←グルメ・カフェ\n",
    "            'lat':'35.654729',#（豊洲の）緯度\n",
    "            'lon':'139.797274',#（豊洲の）経度\n",
    "            'smoking':'1',#禁煙\n",
    "            'output': 'json',\n",
    "            'results': '10',\n",
    "            'sort': 'score',\n",
    "        }\n",
    "        url = '{}?{}'.format(baseurl, urllib.parse.urlencode(params))\n",
    "        headers = {\n",
    "            'User-Agent': 'Yahoo AppID: {0}'.format(self.appid),\n",
    "        }\n",
    "        req = urllib.request.Request(url, headers=headers)\n",
    "        with urllib.request.urlopen(req, timeout=3) as res:\n",
    "            body = res.read()\n",
    "            return self.__json2pois(body)\n",
    "\n",
    "    def __json2pois(self, data):\n",
    "        ydf = json.loads(data)\n",
    "        features = ydf['Feature']\n",
    "        result = []\n",
    "        for f in features:\n",
    "            if f['Geometry']['Type'] == 'point':\n",
    "                ll = f['Geometry']['Coordinates'].split(',')\n",
    "                poi = {'name':f['Name'], 'lat': ll[1], 'lon': ll[0]}\n",
    "                result.append(poi)\n",
    "        return result\n",
    "\n",
    "try:            \n",
    "    appid = app_id # アプリケーションIDを指定\n",
    "    query = 'ホテル' \n",
    "    #\n",
    "    pois = LocalSearch(appid).search(query)\n",
    "    for poi in pois:\n",
    "        print(poi['name'])\n",
    "        print(' {lat}, {lon}'.format(lat=poi['lat'], lon=poi['lon']))\n",
    "        print()\n",
    "except socket.timeout as err:\n",
    "    print('timeout: {0}'.format(err))\n",
    "except urllib.error.URLError as err:\n",
    "    print('URLError: {0}'.format(err))\n",
    "except Exception as err:\n",
    "    print('Exception: {0}'.format(err))"
   ]
  },
  {
   "cell_type": "markdown",
   "metadata": {},
   "source": [
    "# ★国土地理院API（申請不要）"
   ]
  },
  {
   "cell_type": "code",
   "execution_count": 54,
   "metadata": {},
   "outputs": [
    {
     "name": "stdout",
     "output_type": "stream",
     "text": [
      "2\n"
     ]
    }
   ],
   "source": [
    "import requests\n",
    "\n",
    "lat = 35.654729  # 緯度\n",
    "lon = 139.797274 # 経度\n",
    "\n",
    "url = \"http://cyberjapandata2.gsi.go.jp/general/dem/scripts/getelevation.php\" \\\n",
    "       \"?lon=%s&lat=%s&outtype=%s\" %(lon, lat, \"JSON\")\n",
    "\n",
    "resp = requests.get(url, timeout=10)\n",
    "data = resp.json()\n",
    "\n",
    "#標高を出力する。\n",
    "print(data[\"elevation\"])"
   ]
  },
  {
   "cell_type": "markdown",
   "metadata": {},
   "source": [
    "# ★楽天API（色々ある）  \n",
    "ドキュメント⇒https://webservice.rakuten.co.jp/document/"
   ]
  },
  {
   "cell_type": "code",
   "execution_count": 55,
   "metadata": {},
   "outputs": [],
   "source": [
    "app_id = \"Your API Key\""
   ]
  },
  {
   "cell_type": "markdown",
   "metadata": {},
   "source": [
    "## 予約受付中の新書の内、人気の高い本を選出（結構面白い）"
   ]
  },
  {
   "cell_type": "code",
   "execution_count": 71,
   "metadata": {},
   "outputs": [
    {
     "name": "stdout",
     "output_type": "stream",
     "text": [
      "num of kensaku = 249\n",
      "----------------------------------------\n",
      "異端のすすめ　強みを武器にする生き方\n",
      "カメの甲羅はあばら骨\n",
      "狐の婿取りー神様、進言するの巻ー\n",
      "世界哲学史2\n",
      "戦国姫 - 51人のお姫さま大図鑑 -\n",
      "四つ子ぐらし（5）上 初恋の人の正体\n",
      "小説 映画ドラえもん のび太の新恐竜\n",
      "指輪の選んだ婚約者\n",
      "蒼洋の城塞4\n",
      "魔界都市ブルース　闇鬼刃\n"
     ]
    }
   ],
   "source": [
    "#ライブラリをインポート\n",
    "import requests\n",
    "import json\n",
    "\n",
    "#アプリID指定\n",
    "appID = app_id\n",
    "\n",
    "#パラメタ指定\n",
    "payload = {\n",
    "    'applicationId': app_id,\n",
    "    'keyword': 'Python',\n",
    "    'hits': 10,\n",
    "    'size':3,\n",
    "    'availability':5,\n",
    "    'sort': 'sales',\n",
    "    }\n",
    " \n",
    "#APIの雛型\n",
    "url = \"https://app.rakuten.co.jp/services/api/BooksBook/Search/20170404\"\n",
    "\n",
    "r = requests.get(url, params=payload) \n",
    "resp = r.json()\n",
    "\n",
    "print(\"num of kensaku =\",resp['count'])\n",
    "print('-'*40)\n",
    " \n",
    "for i in resp['Items']:\n",
    "    item = i['Item']['title']\n",
    "    print(item)"
   ]
  },
  {
   "cell_type": "markdown",
   "metadata": {},
   "source": [
    "## 周辺の宿を検索します！"
   ]
  },
  {
   "cell_type": "code",
   "execution_count": 116,
   "metadata": {},
   "outputs": [
    {
     "name": "stdout",
     "output_type": "stream",
     "text": [
      "ホテルリブマックス豊洲駅前\n",
      "江東区豊洲5-5-34\n",
      "東京メトロ有楽町線／ゆりかもめ　豊洲駅より徒歩にて約２分\n",
      "ぐっすり眠れ待ち合わせの時間まで爆睡でした。きれいで良かったです。　2020-01-23 23:11:09投稿\n",
      "---------------------------------------------------------------------------------\n",
      "三井ガーデンホテル豊洲ベイサイドクロス（２０２０年６月２５日オープン）\n",
      "江東区豊洲2-2-1\n",
      "東京メトロ有楽町線 豊洲駅 直結\n",
      "None\n",
      "---------------------------------------------------------------------------------\n",
      "ｈｏｔｅｌ　ＭＯＮｄａｙ　豊洲\n",
      "江東区東雲1-2-11\n",
      "豊洲駅より徒歩にて約7分　各交通機関からのアクセスはHPをご参照下さい。\n",
      "tokyoビックサイトから近くて便利です。東雲駅から真っ直ぐ1本道で来れるのでホテルまで迷うこともありません。夕飯をどこかで食べようとしたら牛丼屋くらいしかないのでゆっくり外食したい方はビックサイト近…　2020-01-21 14:58:00投稿 <a href=\"http://img.travel.rakuten.co.jp/image/tr/api/hs/RmfmX/?f_hotel_no=168492\" class=\"3click\">つづきはこちら</a>\n",
      "---------------------------------------------------------------------------------\n",
      "Ｒｙｏｋａｎ　結々　Ｔｏｋｙｏ（２０１９年１０月１３日オープン）\n",
      "江東区塩浜1-5-18\n",
      "有楽町線　豊洲駅より徒歩にて約１０分\n",
      "None\n",
      "---------------------------------------------------------------------------------\n",
      "ホテルＪＡＬシティ東京　豊洲（２０１９年１２月９日オープン）\n",
      "江東区豊洲6-4-20\n",
      "ゆりかもめ線　市場前駅より徒歩にて約２分\n",
      "駅から近いし、建物の中にコンビニがあったのがとても便利で良かったです。できたばかりなので、部屋もとても綺麗でした。ディズニーランドにもタクシーを利用したら早く行くことができて良かったです。　2020-01-24 14:13:17投稿\n",
      "---------------------------------------------------------------------------------\n"
     ]
    }
   ],
   "source": [
    "#ライブラリをインポート\n",
    "import requests\n",
    "import json\n",
    "\n",
    "#アプリID指定\n",
    "appID = app_id\n",
    "\n",
    "#パラメタ指定\n",
    "payload = {\n",
    "    'applicationId': app_id,\n",
    "    'latitude':35.654729,\n",
    "    'longitude':139.797274,\n",
    "    'format':'json',\n",
    "    'searchRadius': '3',\n",
    "    'datumType': '1',\n",
    "    'hits': '5'\n",
    "    }\n",
    " \n",
    "#APIの雛型\n",
    "url = \"https://app.rakuten.co.jp/services/api/Travel/SimpleHotelSearch/20170426\"\n",
    "\n",
    "r = requests.get(url, params=payload) \n",
    "resp = r.json()\n",
    "\n",
    "for hs in resp['hotels']:\n",
    "    print(hs['hotel'][0]['hotelBasicInfo']['hotelName'])\n",
    "    print(hs['hotel'][0]['hotelBasicInfo']['address2'])\n",
    "    print(hs['hotel'][0]['hotelBasicInfo']['access'])\n",
    "    print(hs['hotel'][0]['hotelBasicInfo']['userReview'])\n",
    "    print('------------------------------------------------------------------------------------------------------------')"
   ]
  },
  {
   "cell_type": "markdown",
   "metadata": {},
   "source": [
    "# リクルート（サービス終了多い）  \n",
    "ドキュメント⇒https://webservice.recruit.co.jp/carsensor/"
   ]
  },
  {
   "cell_type": "code",
   "execution_count": null,
   "metadata": {},
   "outputs": [],
   "source": [
    "リクルートのID\n",
    "aaaaaaaaaaa"
   ]
  },
  {
   "cell_type": "code",
   "execution_count": null,
   "metadata": {},
   "outputs": [],
   "source": []
  },
  {
   "cell_type": "code",
   "execution_count": null,
   "metadata": {},
   "outputs": [],
   "source": []
  }
 ],
 "metadata": {
  "kernelspec": {
   "display_name": "Python 3",
   "language": "python",
   "name": "python3"
  },
  "language_info": {
   "codemirror_mode": {
    "name": "ipython",
    "version": 3
   },
   "file_extension": ".py",
   "mimetype": "text/x-python",
   "name": "python",
   "nbconvert_exporter": "python",
   "pygments_lexer": "ipython3",
   "version": "3.7.1"
  },
  "toc": {
   "colors": {
    "hover_highlight": "#DAA520",
    "navigate_num": "#000000",
    "navigate_text": "#333333",
    "running_highlight": "#FF0000",
    "selected_highlight": "#FFD700",
    "sidebar_border": "#EEEEEE",
    "wrapper_background": "#FFFFFF"
   },
   "moveMenuLeft": true,
   "nav_menu": {
    "height": "12px",
    "width": "252px"
   },
   "navigate_menu": true,
   "number_sections": true,
   "sideBar": true,
   "threshold": 4,
   "toc_cell": false,
   "toc_section_display": "block",
   "toc_window_display": false,
   "widenNotebook": false
  }
 },
 "nbformat": 4,
 "nbformat_minor": 2
}
